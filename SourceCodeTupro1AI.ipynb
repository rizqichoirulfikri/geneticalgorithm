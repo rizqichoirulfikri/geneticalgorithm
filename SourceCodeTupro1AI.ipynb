{
  "nbformat": 4,
  "nbformat_minor": 0,
  "metadata": {
    "colab": {
      "name": "Tupro1AI.ipynb",
      "provenance": [],
      "collapsed_sections": []
    },
    "kernelspec": {
      "name": "python3",
      "display_name": "Python 3"
    }
  },
  "cells": [
    {
      "cell_type": "code",
      "metadata": {
        "id": "nbFlSZYlwsl5"
      },
      "source": [
        "import random\n",
        "import math\n",
        "import numpy as np"
      ],
      "execution_count": 1,
      "outputs": []
    },
    {
      "cell_type": "markdown",
      "metadata": {
        "id": "iYygE5ev0Gl9"
      },
      "source": [
        "Bikin Populasi"
      ]
    },
    {
      "cell_type": "code",
      "metadata": {
        "id": "OANbvif_2Gwy"
      },
      "source": [
        "def bikinkromosom(nGen):\n",
        "  krom = []\n",
        "  for i in range(nGen):\n",
        "    krom.append(random.randint(0,1))\n",
        "  return krom\n",
        "\n",
        "def bikinpopulasi(nKrom,nGen):\n",
        "  pop = []\n",
        "  for i in range(nKrom):\n",
        "    pop.append(bikinkromosom(nGen))\n",
        "  return pop\n",
        "\n",
        "# bikinpopulasi(10,6)\n",
        "# popup = bikinpopulasi (10,6)"
      ],
      "execution_count": 2,
      "outputs": []
    },
    {
      "cell_type": "code",
      "metadata": {
        "id": "tVruJ3a46nqr"
      },
      "source": [
        "def rumusfen(stngh,x):\n",
        "  penyebut = 0\n",
        "  for i in range(len(stngh)):\n",
        "    penyebut = penyebut + 2**(-(i+1))\n",
        "  dakur = 0\n",
        "  for i  in range(len(stngh)):\n",
        "    dakur = dakur + stngh[i]* 2**(-(i+1))\n",
        "  if x == 1:\n",
        "    return b1[0] + ((b1[1]-b1[0])/penyebut) * dakur\n",
        "  else:\n",
        "    return b2[0] + ((b2[1]-b2[0])/penyebut) * dakur"
      ],
      "execution_count": 3,
      "outputs": []
    },
    {
      "cell_type": "code",
      "metadata": {
        "id": "5bIVYb8Q_urG"
      },
      "source": [
        "#batas x1 x2\n",
        "b1 = [-1,2]\n",
        "b2 = [-1,1]\n"
      ],
      "execution_count": 4,
      "outputs": []
    },
    {
      "cell_type": "code",
      "metadata": {
        "id": "67quxWkbvCba"
      },
      "source": [
        "def carifen(krom):\n",
        "  x1 = rumusfen(krom[:len(krom)//2],1)\n",
        "  x2 = rumusfen(krom[len(krom)//2:],2)\n",
        "  return x1, x2\n",
        "\n",
        "# for krom in popup:\n",
        "#   print(carifen(krom))"
      ],
      "execution_count": 5,
      "outputs": []
    },
    {
      "cell_type": "code",
      "metadata": {
        "id": "59yCqhVQM3Rr"
      },
      "source": [
        "def rumusH(x1,x2):\n",
        "  h = (np.cos(x1)*np.sin(x2))-(x1/(x2**2+1))\n",
        "  return h\n",
        "\n",
        "# rumusH(2,0)"
      ],
      "execution_count": 6,
      "outputs": []
    },
    {
      "cell_type": "code",
      "metadata": {
        "id": "NJLa_gQ6ARVc"
      },
      "source": [
        "def Hfitness(krom):\n",
        "  x1,x2 = carifen(krom)\n",
        "  h = rumusH(x1,x2)\n",
        "  h = -1*h\n",
        "  return h\n",
        "\n",
        "# Hfitness([1,0,1,0,0,1])"
      ],
      "execution_count": 7,
      "outputs": []
    },
    {
      "cell_type": "code",
      "metadata": {
        "id": "At6KE3XoB4Kf"
      },
      "source": [
        "#nampilkan semua fitness setiap kromosom dalam populasi\n",
        "def evaluate(populasi):\n",
        "  semuafitness=[]\n",
        "  for krom in populasi:\n",
        "    semuafitness.append(Hfitness(krom))\n",
        "  return semuafitness\n",
        "\n",
        "#evaluate(popup)\n",
        "# fit = evaluate(popup)\n",
        "# fit"
      ],
      "execution_count": 8,
      "outputs": []
    },
    {
      "cell_type": "code",
      "metadata": {
        "id": "bfVbLmPoQOQw"
      },
      "source": [
        "def elitism(popup,fit):\n",
        "  hsorted = sorted(zip(popup,fit), key=lambda x:x[1], reverse=True)\n",
        "  eli = []\n",
        "  for i in range(5):\n",
        "    eli.append(hsorted[i][0])\n",
        "  return eli\n",
        "\n",
        "# elitism(popup,fit)"
      ],
      "execution_count": 9,
      "outputs": []
    },
    {
      "cell_type": "code",
      "metadata": {
        "id": "TKjaF6u76EKs"
      },
      "source": [
        "#parentselection\n",
        "def pilihortu(popup):\n",
        "  kumpulanortu = random.sample(popup, k=5)\n",
        "  fitortu = evaluate(kumpulanortu)\n",
        "  coba = elitism(kumpulanortu, fitortu)\n",
        "  hasilpilihortu = coba[0]\n",
        "  return hasilpilihortu\n",
        "\n",
        "\n",
        "# pilihortu(popup)"
      ],
      "execution_count": 10,
      "outputs": []
    },
    {
      "cell_type": "code",
      "metadata": {
        "id": "x-4VajVS38Pi"
      },
      "source": [
        "#crossover atau recombination\n",
        "def bikinanak(ortu1, ortu2):\n",
        "  r = random.random()\n",
        "  if r >= 0.3:\n",
        "    tipot1 = random.randint(0,len(ortu1)-2)\n",
        "    tipot2 = random.randint(0,len(ortu1)-1)\n",
        "    while tipot2 <= tipot1:\n",
        "      tipot2 = random.randint(0,len(ortu1)-1)\n",
        "    anak = ortu1[:tipot1] + ortu2[tipot1:tipot2] + ortu1[tipot2:]\n",
        "    return anak\n",
        "  else:\n",
        "    anak = ortu1\n",
        "    return anak\n",
        "\n",
        "# ortu1 = pilihortu(popup)\n",
        "# ortu2 = pilihortu(popup)\n",
        "# print(ortu1)\n",
        "# print(ortu2)\n",
        "# bikinanak(ortu1,ortu2)"
      ],
      "execution_count": 11,
      "outputs": []
    },
    {
      "cell_type": "code",
      "metadata": {
        "id": "SfEckV01BiAp"
      },
      "source": [
        "#mutation\n",
        "def mutasi(anak):\n",
        "  r = random.random()\n",
        "  if r < 0.1:\n",
        "    timut = random.randint(0,len(anak)-1)\n",
        "    anak[timut] = random.randint(0,1)\n",
        "  return anak\n",
        "\n",
        "# for krom in popup:\n",
        "#   print(mutasi(krom))"
      ],
      "execution_count": 12,
      "outputs": []
    },
    {
      "cell_type": "code",
      "metadata": {
        "id": "EAPa8v23Ucdm",
        "outputId": "6c787bba-8dd9-4002-b744-686107c76819",
        "colab": {
          "base_uri": "https://localhost:8080/",
          "height": 102
        }
      },
      "source": [
        "def main():\n",
        "  N = 10\n",
        "  popup = bikinpopulasi(10,6)\n",
        "  for i in range(N):\n",
        "    fit = evaluate(popup)\n",
        "    newpopup = elitism(popup,fit)\n",
        "    while len(newpopup) <= len(popup):\n",
        "      ortu1 = pilihortu(popup)\n",
        "      ortu2 = pilihortu(popup)\n",
        "      anak = bikinanak(ortu1,ortu2)\n",
        "      anak = mutasi(anak)\n",
        "      newpopup.append(anak)\n",
        "    popup = newpopup.copy()\n",
        "  return sorted(list(zip(popup,fit)), key=lambda x:x[1], reverse=True)\n",
        "\n",
        "coba = main()\n",
        "x1,x2 = carifen(coba[0][0])\n",
        "# print(\"banyak individu =\", )\n",
        "print(\"individu dan nilai fitness terbaik\")\n",
        "print(coba[0])\n",
        "print()\n",
        "print(\"nilai x1 dan x2\")\n",
        "print(x1,x2)"
      ],
      "execution_count": 16,
      "outputs": [
        {
          "output_type": "stream",
          "text": [
            "individu dan nilai fitness terbaik\n",
            "([1, 1, 1, 1, 0, 0], 2.019247544966795)\n",
            "\n",
            "nilai x1 dan x2\n",
            "2.0 0.1428571428571428\n"
          ],
          "name": "stdout"
        }
      ]
    }
  ]
}